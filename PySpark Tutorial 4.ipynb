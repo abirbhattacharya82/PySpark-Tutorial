{
 "cells": [
  {
   "cell_type": "code",
   "execution_count": 0,
   "metadata": {
    "application/vnd.databricks.v1+cell": {
     "cellMetadata": {
      "byteLimit": 2048000,
      "rowLimit": 10000
     },
     "inputWidgets": {},
     "nuid": "4c50e0a8-58b3-4aae-bd51-f57174624141",
     "showTitle": false,
     "title": ""
    }
   },
   "outputs": [
    {
     "output_type": "stream",
     "name": "stdout",
     "output_type": "stream",
     "text": [
      "Collecting pyspark\r\n  Using cached pyspark-3.5.1-py2.py3-none-any.whl\r\nCollecting py4j==0.10.9.7\r\n  Using cached py4j-0.10.9.7-py2.py3-none-any.whl (200 kB)\r\nInstalling collected packages: py4j, pyspark\r\nSuccessfully installed py4j-0.10.9.7 pyspark-3.5.1\r\n\u001B[33mWARNING: You are using pip version 21.2.4; however, version 24.0 is available.\r\nYou should consider upgrading via the '/local_disk0/.ephemeral_nfs/envs/pythonEnv-edf702eb-0ed4-4350-aee4-f409061bbdb3/bin/python -m pip install --upgrade pip' command.\u001B[0m\r\n"
     ]
    }
   ],
   "source": [
    "!pip install pyspark\n",
    "import pyspark\n",
    "from pyspark.sql import SparkSession\n",
    "spark=SparkSession.builder.appName(\"tutorials\").getOrCreate()"
   ]
  },
  {
   "cell_type": "code",
   "execution_count": 0,
   "metadata": {
    "application/vnd.databricks.v1+cell": {
     "cellMetadata": {
      "byteLimit": 2048000,
      "rowLimit": 10000
     },
     "inputWidgets": {},
     "nuid": "9b9d595b-ddc9-4572-ac89-98e477e4eae0",
     "showTitle": false,
     "title": ""
    }
   },
   "outputs": [
    {
     "output_type": "stream",
     "name": "stdout",
     "output_type": "stream",
     "text": [
      "+---------+---+----------+------+\n|     Name|Age|Experience|Salary|\n+---------+---+----------+------+\n|    Krish| 31|        10| 30000|\n|Sudhanshu| 30|         8| 25000|\n|    Sunny| 29|         4| 20000|\n|     Paul| 24|         3| 20000|\n|   Harsha| 21|         1| 15000|\n|   Subham| 23|         2| 18000|\n+---------+---+----------+------+\n\n"
     ]
    }
   ],
   "source": [
    "df=spark.read.csv(\"/FileStore/tables/PySparkTutoria/sample4.csv\", inferSchema=True, header=True)\n",
    "df.show()"
   ]
  },
  {
   "cell_type": "code",
   "execution_count": 0,
   "metadata": {
    "application/vnd.databricks.v1+cell": {
     "cellMetadata": {
      "byteLimit": 2048000,
      "rowLimit": 10000
     },
     "inputWidgets": {},
     "nuid": "0d5f367e-8d19-48f1-8899-00796bfffc11",
     "showTitle": false,
     "title": ""
    }
   },
   "outputs": [
    {
     "output_type": "stream",
     "name": "stdout",
     "output_type": "stream",
     "text": [
      "+---------+---+----------+------+\n|     Name|Age|Experience|Salary|\n+---------+---+----------+------+\n|    Krish| 31|        10| 30000|\n|Sudhanshu| 30|         8| 25000|\n|    Sunny| 29|         4| 20000|\n+---------+---+----------+------+\n\n"
     ]
    }
   ],
   "source": [
    "# Filtering Data where Experience is more than or equal to 4\n",
    "df.filter(\"Experience >= 4\").show()"
   ]
  },
  {
   "cell_type": "code",
   "execution_count": 0,
   "metadata": {
    "application/vnd.databricks.v1+cell": {
     "cellMetadata": {
      "byteLimit": 2048000,
      "rowLimit": 10000
     },
     "inputWidgets": {},
     "nuid": "a060fb2a-1c51-4e36-b577-8e664fa441b9",
     "showTitle": false,
     "title": ""
    }
   },
   "outputs": [
    {
     "output_type": "stream",
     "name": "stdout",
     "output_type": "stream",
     "text": [
      "+---------+---+\n|     Name|Age|\n+---------+---+\n|    Krish| 31|\n|Sudhanshu| 30|\n|    Sunny| 29|\n+---------+---+\n\n"
     ]
    }
   ],
   "source": [
    "# Filtering Data and show only the Name and Age where Experience is more than or equal to 4.\n",
    "df.filter(\"Experience >= 4\").select(['Name','Age']).show()"
   ]
  },
  {
   "cell_type": "code",
   "execution_count": 0,
   "metadata": {
    "application/vnd.databricks.v1+cell": {
     "cellMetadata": {
      "byteLimit": 2048000,
      "rowLimit": 10000
     },
     "inputWidgets": {},
     "nuid": "832aa68a-4fd2-475e-99e3-16187e3bab6f",
     "showTitle": false,
     "title": ""
    }
   },
   "outputs": [
    {
     "output_type": "stream",
     "name": "stdout",
     "output_type": "stream",
     "text": [
      "+---------+---+----------+------+\n|     Name|Age|Experience|Salary|\n+---------+---+----------+------+\n|    Krish| 31|        10| 30000|\n|Sudhanshu| 30|         8| 25000|\n|    Sunny| 29|         4| 20000|\n+---------+---+----------+------+\n\n"
     ]
    }
   ],
   "source": [
    "# Another way to Filter Data where Experience is more than or equal to 4\n",
    "df.filter(df['Experience']>=4).show()"
   ]
  },
  {
   "cell_type": "code",
   "execution_count": 0,
   "metadata": {
    "application/vnd.databricks.v1+cell": {
     "cellMetadata": {
      "byteLimit": 2048000,
      "rowLimit": 10000
     },
     "inputWidgets": {},
     "nuid": "3bff6f55-7358-4363-b216-2287f011a23d",
     "showTitle": false,
     "title": ""
    }
   },
   "outputs": [
    {
     "output_type": "stream",
     "name": "stdout",
     "output_type": "stream",
     "text": [
      "+---------+---+\n|     Name|Age|\n+---------+---+\n|    Krish| 31|\n|Sudhanshu| 30|\n|    Sunny| 29|\n+---------+---+\n\n"
     ]
    }
   ],
   "source": [
    "# Another way to Filter Data and show only name and age where Experience is more than or equal to 4\n",
    "df.filter(df['Experience']>=4).select(['Name','Age']).show()"
   ]
  },
  {
   "cell_type": "code",
   "execution_count": 0,
   "metadata": {
    "application/vnd.databricks.v1+cell": {
     "cellMetadata": {
      "byteLimit": 2048000,
      "rowLimit": 10000
     },
     "inputWidgets": {},
     "nuid": "bb023705-1056-4b4a-b7f4-554271e31615",
     "showTitle": false,
     "title": ""
    }
   },
   "outputs": [
    {
     "output_type": "stream",
     "name": "stdout",
     "output_type": "stream",
     "text": [
      "+-----+\n| Name|\n+-----+\n|Krish|\n+-----+\n\n"
     ]
    }
   ],
   "source": [
    "# Using And Operation\n",
    "# Show the Names of those people who have more than or equal to 4 years of experience and earns more than or equal to 30000\n",
    "df.filter((df['Experience']>=4)&\n",
    "          (df['Salary']>=30000)).select(['Name']).show()"
   ]
  },
  {
   "cell_type": "code",
   "execution_count": 0,
   "metadata": {
    "application/vnd.databricks.v1+cell": {
     "cellMetadata": {
      "byteLimit": 2048000,
      "rowLimit": 10000
     },
     "inputWidgets": {},
     "nuid": "f09aafcd-d237-4f28-8939-31351a68c95f",
     "showTitle": false,
     "title": ""
    }
   },
   "outputs": [
    {
     "output_type": "stream",
     "name": "stdout",
     "output_type": "stream",
     "text": [
      "+---------+\n|     Name|\n+---------+\n|    Krish|\n|Sudhanshu|\n|    Sunny|\n+---------+\n\n"
     ]
    }
   ],
   "source": [
    "# Using Or Operation\n",
    "# Show the Names of those people who have more than or equal to 4 years of experience or earns more than or equal to 30000\n",
    "df.filter((df['Experience']>=4) |\n",
    "          (df['Salary']>=30000)).select(['Name']).show()"
   ]
  },
  {
   "cell_type": "code",
   "execution_count": 0,
   "metadata": {
    "application/vnd.databricks.v1+cell": {
     "cellMetadata": {
      "byteLimit": 2048000,
      "rowLimit": 10000
     },
     "inputWidgets": {},
     "nuid": "04baa636-c0aa-403b-8bba-308b249b3413",
     "showTitle": false,
     "title": ""
    }
   },
   "outputs": [
    {
     "output_type": "stream",
     "name": "stdout",
     "output_type": "stream",
     "text": [
      "+------+---+----------+------+\n|  Name|Age|Experience|Salary|\n+------+---+----------+------+\n|  Paul| 24|         3| 20000|\n|Harsha| 21|         1| 15000|\n|Subham| 23|         2| 18000|\n+------+---+----------+------+\n\n"
     ]
    }
   ],
   "source": [
    "# Filtering Data where Experience is NOT more than or equal to 4\n",
    "df.filter(~(df['Experience']>=4)).show()"
   ]
  }
 ],
 "metadata": {
  "application/vnd.databricks.v1+notebook": {
   "dashboards": [],
   "language": "python",
   "notebookMetadata": {
    "pythonIndentUnit": 4
   },
   "notebookName": "PySpark Tutorial 4",
   "widgets": {}
  }
 },
 "nbformat": 4,
 "nbformat_minor": 0
}
